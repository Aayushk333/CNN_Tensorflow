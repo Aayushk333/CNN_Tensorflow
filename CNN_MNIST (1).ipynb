{
 "cells": [
  {
   "cell_type": "code",
   "execution_count": null,
   "metadata": {
    "colab": {},
    "colab_type": "code",
    "id": "PH1P9KaCV5Oj"
   },
   "outputs": [],
   "source": [
    "import tensorflow as tf"
   ]
  },
  {
   "cell_type": "code",
   "execution_count": 3,
   "metadata": {
    "colab": {
     "base_uri": "https://localhost:8080/",
     "height": 538
    },
    "colab_type": "code",
    "id": "NYWY4HpLZQaL",
    "outputId": "c9a9c588-a5b5-487f-cd08-1661ebadfa49"
   },
   "outputs": [
    {
     "name": "stdout",
     "output_type": "stream",
     "text": [
      "WARNING:tensorflow:From <ipython-input-3-dbc7d7efeb7a>:2: read_data_sets (from tensorflow.contrib.learn.python.learn.datasets.mnist) is deprecated and will be removed in a future version.\n",
      "Instructions for updating:\n",
      "Please use alternatives such as official/mnist/dataset.py from tensorflow/models.\n",
      "WARNING:tensorflow:From /usr/local/lib/python3.6/dist-packages/tensorflow/contrib/learn/python/learn/datasets/mnist.py:260: maybe_download (from tensorflow.contrib.learn.python.learn.datasets.base) is deprecated and will be removed in a future version.\n",
      "Instructions for updating:\n",
      "Please write your own downloading logic.\n",
      "WARNING:tensorflow:From /usr/local/lib/python3.6/dist-packages/tensorflow/contrib/learn/python/learn/datasets/base.py:252: _internal_retry.<locals>.wrap.<locals>.wrapped_fn (from tensorflow.contrib.learn.python.learn.datasets.base) is deprecated and will be removed in a future version.\n",
      "Instructions for updating:\n",
      "Please use urllib or similar directly.\n",
      "Successfully downloaded train-images-idx3-ubyte.gz 9912422 bytes.\n",
      "WARNING:tensorflow:From /usr/local/lib/python3.6/dist-packages/tensorflow/contrib/learn/python/learn/datasets/mnist.py:262: extract_images (from tensorflow.contrib.learn.python.learn.datasets.mnist) is deprecated and will be removed in a future version.\n",
      "Instructions for updating:\n",
      "Please use tf.data to implement this functionality.\n",
      "Extracting MNIST_data/train-images-idx3-ubyte.gz\n",
      "Successfully downloaded train-labels-idx1-ubyte.gz 28881 bytes.\n",
      "WARNING:tensorflow:From /usr/local/lib/python3.6/dist-packages/tensorflow/contrib/learn/python/learn/datasets/mnist.py:267: extract_labels (from tensorflow.contrib.learn.python.learn.datasets.mnist) is deprecated and will be removed in a future version.\n",
      "Instructions for updating:\n",
      "Please use tf.data to implement this functionality.\n",
      "Extracting MNIST_data/train-labels-idx1-ubyte.gz\n",
      "WARNING:tensorflow:From /usr/local/lib/python3.6/dist-packages/tensorflow/contrib/learn/python/learn/datasets/mnist.py:110: dense_to_one_hot (from tensorflow.contrib.learn.python.learn.datasets.mnist) is deprecated and will be removed in a future version.\n",
      "Instructions for updating:\n",
      "Please use tf.one_hot on tensors.\n",
      "Successfully downloaded t10k-images-idx3-ubyte.gz 1648877 bytes.\n",
      "Extracting MNIST_data/t10k-images-idx3-ubyte.gz\n",
      "Successfully downloaded t10k-labels-idx1-ubyte.gz 4542 bytes.\n",
      "Extracting MNIST_data/t10k-labels-idx1-ubyte.gz\n",
      "WARNING:tensorflow:From /usr/local/lib/python3.6/dist-packages/tensorflow/contrib/learn/python/learn/datasets/mnist.py:290: DataSet.__init__ (from tensorflow.contrib.learn.python.learn.datasets.mnist) is deprecated and will be removed in a future version.\n",
      "Instructions for updating:\n",
      "Please use alternatives such as official/mnist/dataset.py from tensorflow/models.\n"
     ]
    }
   ],
   "source": [
    "from tensorflow.examples.tutorials.mnist import input_data\n",
    "mnist = input_data.read_data_sets(\"MNIST_data/\",one_hot=True)"
   ]
  },
  {
   "cell_type": "code",
   "execution_count": null,
   "metadata": {
    "colab": {},
    "colab_type": "code",
    "id": "v86MtrZ6Zp3e"
   },
   "outputs": [],
   "source": [
    "input_width=28\n",
    "input_height=28\n",
    "input_channels=1\n",
    "input_size=784"
   ]
  },
  {
   "cell_type": "code",
   "execution_count": 5,
   "metadata": {
    "colab": {
     "base_uri": "https://localhost:8080/",
     "height": 35
    },
    "colab_type": "code",
    "id": "zXAkZwfYgTw-",
    "outputId": "1961fbaa-9660-4f5c-9716-d8a3a76d284c"
   },
   "outputs": [
    {
     "data": {
      "text/plain": [
       "(55000, 784)"
      ]
     },
     "execution_count": 5,
     "metadata": {
      "tags": []
     },
     "output_type": "execute_result"
    }
   ],
   "source": [
    "mnist.train.images.shape"
   ]
  },
  {
   "cell_type": "code",
   "execution_count": null,
   "metadata": {
    "colab": {},
    "colab_type": "code",
    "id": "li026MQ7ZyW0"
   },
   "outputs": [],
   "source": [
    "n_conv1=32           #No of units in convolution layer 1 \n",
    "n_conv2=64           #No of units in convolution layer 2\n",
    "n_dense=1024         #No of units in dense layer\n",
    "n_out=10             #No of units in the output layer"
   ]
  },
  {
   "cell_type": "code",
   "execution_count": 7,
   "metadata": {
    "colab": {
     "base_uri": "https://localhost:8080/",
     "height": 35
    },
    "colab_type": "code",
    "id": "21zR_dycbNH8",
    "outputId": "31c05c2f-23fa-4291-f27e-0604bd2c0212"
   },
   "outputs": [
    {
     "data": {
      "text/plain": [
       "3136"
      ]
     },
     "execution_count": 7,
     "metadata": {
      "tags": []
     },
     "output_type": "execute_result"
    }
   ],
   "source": [
    "k1=5             #FILTER SIZE FOR CONVOLUTION LAYER 1\n",
    "k2=5             #FILTER SIZE FOR CONVOLUTION LAYER 2\n",
    "stride1=1\n",
    "stride2=1\n",
    "pool1_k=2        #Max_Pool filter size \n",
    "pool2_k=2        #for both the max pool layers\n",
    "pool2_output_size = (input_width//(pool1_k*pool2_k))*(input_height//(pool1_k*pool2_k))*n_conv2\n",
    "pool2_output_size      #This is basically the input features that go to the dense(hidden) layer with 1024 units"
   ]
  },
  {
   "cell_type": "code",
   "execution_count": 8,
   "metadata": {
    "colab": {
     "base_uri": "https://localhost:8080/",
     "height": 89
    },
    "colab_type": "code",
    "id": "fT3Fv3BFZ60R",
    "outputId": "ddf74193-beca-4042-cc79-fd8630d1e77c"
   },
   "outputs": [
    {
     "name": "stdout",
     "output_type": "stream",
     "text": [
      "WARNING:tensorflow:From /usr/local/lib/python3.6/dist-packages/tensorflow/python/framework/op_def_library.py:263: colocate_with (from tensorflow.python.framework.ops) is deprecated and will be removed in a future version.\n",
      "Instructions for updating:\n",
      "Colocations handled automatically by placer.\n"
     ]
    }
   ],
   "source": [
    "weights={\n",
    "    \"wc1\":tf.Variable(tf.random_normal([k1,k1,input_channels,n_conv1])),\n",
    "    \"wc2\":tf.Variable(tf.random_normal([k2,k2,n_conv1,n_conv2])),\n",
    "    \"wh1\":tf.Variable(tf.random_normal([pool2_output_size,n_dense])),\n",
    "    \"wo\":tf.Variable(tf.random_normal([n_dense,n_out]))\n",
    "}\n",
    "\n",
    "biases={\n",
    "    \"bc1\":tf.Variable(tf.random_normal([n_conv1])),\n",
    "    \"bc2\":tf.Variable(tf.random_normal([n_conv2])),\n",
    "    \"bh1\":tf.Variable(tf.random_normal([n_dense])),\n",
    "    \"bo\":tf.Variable(tf.random_normal([n_out]))\n",
    "}"
   ]
  },
  {
   "cell_type": "code",
   "execution_count": null,
   "metadata": {
    "colab": {},
    "colab_type": "code",
    "id": "WSSPyv-jZWmk"
   },
   "outputs": [],
   "source": [
    "def cnn(x,weights,biases,keep_prob=0.75 , training = True):\n",
    "    images=tf.reshape(x,shape=[-1,input_height,input_width,input_channels])           #Reshaping the images \n",
    "    conv1=conv(images,weights['wc1'],biases['bc1'],stride1)\n",
    "    conv1_pool=maxpooling(conv1,pool1_k)\n",
    "\n",
    "    conv2=conv(conv1_pool,weights['wc2'],biases['bc2'],stride2)\n",
    "    conv2_pool=maxpooling(conv2,pool2_k)\n",
    "\n",
    "    dense_input=tf.reshape(conv2_pool,shape=[-1,pool2_output_size])\n",
    "    dense_output_before_activation=tf.add(tf.matmul(dense_input,weights['wh1']),biases['bh1'])\n",
    "    dense_output = tf.nn.relu(dense_output_before_activation)\n",
    "    if training:\n",
    "        dropout_output = tf.nn.dropout(dense_output , keep_prob)\n",
    "    else:\n",
    "        dropout_output = dense_output\n",
    "    output = tf.add(tf.matmul(dropout_output,weights['wo']),biases['bo'])\n",
    "    return output"
   ]
  },
  {
   "cell_type": "code",
   "execution_count": null,
   "metadata": {
    "colab": {},
    "colab_type": "code",
    "id": "g27ALcsmfmqK"
   },
   "outputs": [],
   "source": [
    "#Now in the first step we move the filter on the images using the functiom tf.nn.conv2d\n",
    "#Then we add the biases using a special function tf.nn.bias_add\n",
    "#Then in the third step we apply the activation function and return the output\n",
    "def conv(images , weights , biases, stride=1):\n",
    "    out = tf.nn.conv2d(images,weights,padding=\"SAME\",strides = [1,stride,stride,1])\n",
    "    out = tf.nn.bias_add(out,biases)\n",
    "    out=tf.nn.relu(out)\n",
    "    return out"
   ]
  },
  {
   "cell_type": "code",
   "execution_count": null,
   "metadata": {
    "colab": {},
    "colab_type": "code",
    "id": "KnM8rnAuiREi"
   },
   "outputs": [],
   "source": [
    "def maxpooling(images, k = 2):\n",
    "    return tf.nn.max_pool(images,ksize=[1,k,k,1],padding=\"SAME\",strides=[1,k,k,1])"
   ]
  },
  {
   "cell_type": "code",
   "execution_count": 12,
   "metadata": {
    "colab": {
     "base_uri": "https://localhost:8080/",
     "height": 89
    },
    "colab_type": "code",
    "id": "poafWS2SdZrZ",
    "outputId": "6a7a5348-7539-4d05-eaab-36ca5fce97f7"
   },
   "outputs": [
    {
     "name": "stdout",
     "output_type": "stream",
     "text": [
      "WARNING:tensorflow:From <ipython-input-9-512b28b7d1ed>:13: calling dropout (from tensorflow.python.ops.nn_ops) with keep_prob is deprecated and will be removed in a future version.\n",
      "Instructions for updating:\n",
      "Please use `rate` instead of `keep_prob`. Rate should be set to `rate = 1 - keep_prob`.\n"
     ]
    }
   ],
   "source": [
    "x=tf.placeholder(\"float\",[None,input_size])\n",
    "y=tf.placeholder(tf.int32,[None,n_out])\n",
    "\n",
    "pred=cnn(x,weights,biases)"
   ]
  },
  {
   "cell_type": "code",
   "execution_count": null,
   "metadata": {
    "colab": {},
    "colab_type": "code",
    "id": "L0FymxMDklhz"
   },
   "outputs": [],
   "source": [
    "cost=tf.reduce_mean(tf.nn.softmax_cross_entropy_with_logits_v2(logits=pred,labels=y))"
   ]
  },
  {
   "cell_type": "code",
   "execution_count": null,
   "metadata": {
    "colab": {},
    "colab_type": "code",
    "id": "NA-eTztik7Uc"
   },
   "outputs": [],
   "source": [
    "optimizer=tf.train.AdamOptimizer(learning_rate=0.01)\n",
    "optimize=optimizer.minimize(cost)"
   ]
  },
  {
   "cell_type": "code",
   "execution_count": null,
   "metadata": {
    "colab": {},
    "colab_type": "code",
    "id": "qTH_rflNlEsf"
   },
   "outputs": [],
   "source": [
    "sess=tf.Session()\n",
    "sess.run(tf.global_variables_initializer())"
   ]
  },
  {
   "cell_type": "code",
   "execution_count": 17,
   "metadata": {
    "colab": {
     "base_uri": "https://localhost:8080/",
     "height": 449
    },
    "colab_type": "code",
    "id": "x5SppzFrl03G",
    "outputId": "ccceb16b-5e71-43f4-8990-c53db71b8761"
   },
   "outputs": [
    {
     "name": "stdout",
     "output_type": "stream",
     "text": [
      "973457.2251079082\n",
      "36500.75811350427\n",
      "20181.06441855134\n",
      "11895.142187070101\n",
      "9067.66943077163\n",
      "8404.675237813295\n",
      "7338.042391553818\n",
      "7007.675895127662\n",
      "6471.650135979042\n",
      "5712.759632501227\n",
      "5111.3736998966515\n",
      "5028.181658680714\n",
      "4271.106277514969\n",
      "2911.8879490922945\n",
      "3914.0710258658364\n",
      "4118.541610621545\n",
      "2994.3174131283295\n",
      "2806.698722378329\n",
      "2183.884401855379\n",
      "2603.5675622801623\n",
      "2337.423989041373\n",
      "2464.2448781751127\n",
      "2314.554405799908\n",
      "1701.8258978822423\n",
      "1677.688647805747\n"
     ]
    }
   ],
   "source": [
    "batch_size=100\n",
    "for i in range(25):\n",
    "    num_batches=int(mnist.train.num_examples/batch_size)\n",
    "    total_cost=0\n",
    "    for j in range(num_batches):\n",
    "        batch_x,batch_y=mnist.train.next_batch(batch_size)     #Tensorflow already provides an inbuilt function to create batches of x and y according to the batch size\n",
    "        c,_=sess.run([cost,optimize],feed_dict={x:batch_x,y:batch_y})\n",
    "        total_cost+=c\n",
    "    print(total_cost)"
   ]
  },
  {
   "cell_type": "code",
   "execution_count": 27,
   "metadata": {
    "colab": {
     "base_uri": "https://localhost:8080/",
     "height": 69
    },
    "colab_type": "code",
    "id": "tFXiVhoRn7SK",
    "outputId": "e58e1c17-cd38-44ac-e6bc-124410205130"
   },
   "outputs": [
    {
     "data": {
      "text/plain": [
       "(array([1, 9, 7, ..., 4, 6, 1]),\n",
       " array([1, 9, 7, ..., 4, 6, 1]),\n",
       " array([ True,  True,  True, ...,  True,  True,  True]))"
      ]
     },
     "execution_count": 27,
     "metadata": {
      "tags": []
     },
     "output_type": "execute_result"
    }
   ],
   "source": [
    "predictions = tf.argmax(pred,1)\n",
    "true_labels = tf.argmax(y,1)\n",
    "correct_predictions=tf.equal(predictions,true_labels)\n",
    "predictions_eval,labels,correct_pred = sess.run([predictions,true_labels,correct_predictions], feed_dict={x:mnist.train.images,y:mnist.train.labels})\n",
    "predictions_eval,labels,correct_pred"
   ]
  },
  {
   "cell_type": "code",
   "execution_count": 28,
   "metadata": {
    "colab": {
     "base_uri": "https://localhost:8080/",
     "height": 35
    },
    "colab_type": "code",
    "id": "BdxCzBssozhT",
    "outputId": "ae95b6c3-02eb-48d3-f5f8-313ea065d82f"
   },
   "outputs": [
    {
     "data": {
      "text/plain": [
       "54672"
      ]
     },
     "execution_count": 28,
     "metadata": {
      "tags": []
     },
     "output_type": "execute_result"
    }
   ],
   "source": [
    "correct_pred.sum()"
   ]
  },
  {
   "cell_type": "code",
   "execution_count": 29,
   "metadata": {
    "colab": {
     "base_uri": "https://localhost:8080/",
     "height": 35
    },
    "colab_type": "code",
    "id": "UTiW_HPdo3x1",
    "outputId": "9e09f829-b7d6-43a1-dc31-22e3305f2361"
   },
   "outputs": [
    {
     "data": {
      "text/plain": [
       "0.9940363636363636"
      ]
     },
     "execution_count": 29,
     "metadata": {
      "tags": []
     },
     "output_type": "execute_result"
    }
   ],
   "source": [
    "#Accuracy obtained \n",
    "54672/55000 "
   ]
  },
  {
   "cell_type": "code",
   "execution_count": null,
   "metadata": {
    "colab": {},
    "colab_type": "code",
    "id": "8HQ1-NBfpJua"
   },
   "outputs": [],
   "source": []
  }
 ],
 "metadata": {
  "accelerator": "GPU",
  "colab": {
   "collapsed_sections": [],
   "name": "CNN_MNIST.ipynb",
   "provenance": [],
   "version": "0.3.2"
  },
  "kernelspec": {
   "display_name": "Python 3",
   "language": "python",
   "name": "python3"
  },
  "language_info": {
   "codemirror_mode": {
    "name": "ipython",
    "version": 3
   },
   "file_extension": ".py",
   "mimetype": "text/x-python",
   "name": "python",
   "nbconvert_exporter": "python",
   "pygments_lexer": "ipython3",
   "version": "3.7.1"
  }
 },
 "nbformat": 4,
 "nbformat_minor": 2
}
